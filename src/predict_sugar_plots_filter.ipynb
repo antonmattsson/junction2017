{
 "cells": [
  {
   "cell_type": "code",
   "execution_count": 1,
   "metadata": {},
   "outputs": [
    {
     "name": "stderr",
     "output_type": "stream",
     "text": [
      "Using TensorFlow backend.\n",
      "/home/anton/miniconda3/lib/python3.6/importlib/_bootstrap.py:205: RuntimeWarning: compiletime version 3.5 of module 'tensorflow.python.framework.fast_tensor_util' does not match runtime version 3.6\n",
      "  return f(*args, **kwds)\n"
     ]
    }
   ],
   "source": [
    "import numpy as np\n",
    "import pandas as pd\n",
    "import matplotlib.pyplot as plt\n",
    "\n",
    "from sklearn.preprocessing import LabelEncoder\n",
    "from keras.utils import np_utils\n",
    "\n",
    "from keras.models import Sequential\n",
    "from keras.layers.core import Dense, Activation\n",
    "%matplotlib inline\n",
    "\n",
    "from __future__ import print_function\n",
    "from ipywidgets import interact, interactive, fixed, interact_manual\n",
    "import ipywidgets as widgets\n",
    "from ipywidgets import IntSlider, Label\n",
    "\n",
    "from sklearn.decomposition import PCA\n",
    "from sklearn.preprocessing import scale\n",
    "import plotly\n",
    "import plotly.plotly as py\n",
    "import plotly.graph_objs as go\n",
    "plotly.tools.set_credentials_file(username='user', api_key='your_token')"
   ]
  },
  {
   "cell_type": "code",
   "execution_count": 2,
   "metadata": {},
   "outputs": [],
   "source": [
    "labs = [\"B.Eryt..1341.\",\"B.Gluk..1462.\",\"B.HKR..1358.\",\"B.Hb..1552.\",\"B.Hb.CO..1566.\",\"B.HbA1c..6128.\",\"B.Leuk..2218.\",\"B.Trom..2791.\",\"E.MCH..1558.\",\"E.MCV..1357.\",\"P.GT..4597.\",\"P.Gluk..1471.\",\"fP.Gluk..1468.\"]"
   ]
  },
  {
   "cell_type": "code",
   "execution_count": 3,
   "metadata": {},
   "outputs": [],
   "source": [
    "df = pd.read_csv('../downloaded_data/patient_profile_aod.csv', sep=',')"
   ]
  },
  {
   "cell_type": "code",
   "execution_count": 4,
   "metadata": {},
   "outputs": [],
   "source": [
    "df = df[df.age_of_death!=0]"
   ]
  },
  {
   "cell_type": "code",
   "execution_count": 5,
   "metadata": {},
   "outputs": [],
   "source": [
    "# Load target data from glucose\n",
    "y = df['age_of_death'].as_matrix()\n",
    "x = df[labs].as_matrix()"
   ]
  },
  {
   "cell_type": "code",
   "execution_count": 6,
   "metadata": {},
   "outputs": [],
   "source": [
    "def build_model():\n",
    "    # create model\n",
    "    model = Sequential()\n",
    "    model.add(Dense(13, input_dim=13, kernel_initializer='normal', activation='relu'))\n",
    "    model.add(Dense(1, kernel_initializer='normal'))\n",
    "    # Compile model\n",
    "    model.compile(loss='mean_squared_error', metrics=['accuracy'], optimizer='adam')\n",
    "    return model"
   ]
  },
  {
   "cell_type": "code",
   "execution_count": 7,
   "metadata": {},
   "outputs": [
    {
     "name": "stdout",
     "output_type": "stream",
     "text": [
      "Train on 3677 samples, validate on 409 samples\n",
      "Epoch 1/5\n",
      "3677/3677 [==============================] - 1s 198us/step - loss: 1662.5455 - acc: 0.0000e+00 - val_loss: 137.8823 - val_acc: 0.0000e+00\n",
      "Epoch 2/5\n",
      "3677/3677 [==============================] - 0s 102us/step - loss: 137.0882 - acc: 0.0000e+00 - val_loss: 130.0250 - val_acc: 0.0000e+00\n",
      "Epoch 3/5\n",
      "3677/3677 [==============================] - 0s 114us/step - loss: 121.6742 - acc: 0.0000e+00 - val_loss: 124.7083 - val_acc: 0.0000e+00\n",
      "Epoch 4/5\n",
      "3677/3677 [==============================] - 0s 113us/step - loss: 114.1425 - acc: 0.0000e+00 - val_loss: 124.8067 - val_acc: 0.0000e+00\n",
      "Epoch 5/5\n",
      "3677/3677 [==============================] - 1s 149us/step - loss: 111.1610 - acc: 0.0000e+00 - val_loss: 124.2232 - val_acc: 0.0000e+00\n"
     ]
    },
    {
     "data": {
      "text/plain": [
       "<keras.callbacks.History at 0x7f6af18a9f60>"
      ]
     },
     "execution_count": 7,
     "metadata": {},
     "output_type": "execute_result"
    }
   ],
   "source": [
    "batch_size = 10\n",
    "nb_epoch = 5\n",
    "model = build_model()\n",
    "model.fit(x,\n",
    "          y,\n",
    "          batch_size=batch_size,\n",
    "          epochs=nb_epoch,\n",
    "          verbose=1,\n",
    "          validation_split = 0.1)"
   ]
  },
  {
   "cell_type": "code",
   "execution_count": 8,
   "metadata": {},
   "outputs": [],
   "source": [
    "x_s = scale(x)\n",
    "pca = PCA(n_components = 2)\n",
    "pca.fit(x_s)\n",
    "x_pca = pca.transform(x_s)"
   ]
  },
  {
   "cell_type": "code",
   "execution_count": 9,
   "metadata": {},
   "outputs": [],
   "source": [
    "def f(var1,\n",
    "      var2,\n",
    "      var3,\n",
    "      var4,\n",
    "      var5,\n",
    "      var6,\n",
    "      var7,\n",
    "      var8,\n",
    "      var9,\n",
    "      var10,\n",
    "      var11,\n",
    "      var12,\n",
    "      var13):\n",
    "    array = np.array([[var1,var2,var3,var4,var5,var6,var7,var8,var9,var10,var11,var12,var13]])\n",
    "    print(\"Life Expetancy: {0:.2f} years\".format(model.predict(array)[0][0]))\n",
    "    \n",
    "    full = np.vstack((x,array))\n",
    "    full_pca = pca.transform(scale(full))\n",
    "    \n",
    "    plt.figure(figsize=(10,10))\n",
    "    plt.scatter(full_pca[:-1,0], full_pca[:-1,1])\n",
    "    plt.scatter(full_pca[-1,0], full_pca[-1,1])\n",
    "    plt.show()\n",
    "    \n",
    "    \n",
    "    \n",
    "    \n",
    "    #return model.predict(array)[0][0]"
   ]
  },
  {
   "cell_type": "code",
   "execution_count": 10,
   "metadata": {},
   "outputs": [
    {
     "data": {
      "application/vnd.jupyter.widget-view+json": {
       "model_id": "e8d0333d2e6b4b67be78414154e2c5c6",
       "version_major": 2,
       "version_minor": 0
      },
      "text/html": [
       "<p>Failed to display Jupyter Widget of type <code>interactive</code>.</p>\n",
       "<p>\n",
       "  If you're reading this message in Jupyter Notebook or JupyterLab, it may mean\n",
       "  that the widgets JavaScript is still loading. If this message persists, it\n",
       "  likely means that the widgets JavaScript library is either not installed or\n",
       "  not enabled. See the <a href=\"https://ipywidgets.readthedocs.io/en/stable/user_install.html\">Jupyter\n",
       "  Widgets Documentation</a> for setup instructions.\n",
       "</p>\n",
       "<p>\n",
       "  If you're reading this message in another notebook frontend (for example, a static\n",
       "  rendering on GitHub or <a href=\"https://nbviewer.jupyter.org/\">NBViewer</a>),\n",
       "  it may mean that your frontend doesn't currently support widgets.\n",
       "</p>\n"
      ],
      "text/plain": [
       "interactive(children=(FloatSlider(value=3.947811, description='B-Eryt', max=5.93, min=2.63), FloatSlider(value=8.22179, description='B-Gluk', max=31.0, min=2.4), FloatSlider(value=0.363096, description='B-HKR', max=0.49, min=0.22), FloatSlider(value=119.174496, description='B-Hb', max=162.0, min=60.0), FloatSlider(value=1.09794, description='B-Hb-CO', max=4.4), FloatSlider(value=54.0475, description='B-HbA1-c', max=103.0, min=23.0), FloatSlider(value=8.163574, description='B-Leuk', max=18.0, min=1.1), FloatSlider(value=230.610433, description='B-Trom', max=562.0, min=7.0), FloatSlider(value=30.02897, description='E-MCH', max=39.0, min=22.0), FloatSlider(value=90.696668, description='E-MCV', max=113.0, min=66.0), FloatSlider(value=39.583638, description='P-GT', max=2400.0, min=8.0), FloatSlider(value=8.533187, description='P-Gluk', max=24.0, min=2.7), FloatSlider(value=7.359861, description='fP-Gluk', max=18.3, min=4.5), Button(description='Run Interact', style=ButtonStyle()), Output()), _dom_classes=('widget-interact',))"
      ]
     },
     "metadata": {},
     "output_type": "display_data"
    }
   ],
   "source": [
    "interact_manual(f, var1=widgets.FloatSlider(value=3.947811, min=2.63, max=5.930000, description='B-Eryt'),\n",
    "         var2=widgets.FloatSlider(value=8.221790, min=2.4, max=31.000000, description='B-Gluk'),\n",
    "         var3=widgets.FloatSlider(value=0.363096, min=0.22, max=0.490000, description='B-HKR'),\n",
    "         var4=widgets.FloatSlider(value=119.174496,min=60, max=162.000000,description='B-Hb'),\n",
    "         var5=widgets.FloatSlider(value=1.097940,min=0, max=4.4,description='B-Hb-CO'),\n",
    "         var6=widgets.FloatSlider(value=54.047500,min=23, max=103,description='B-HbA1-c'),\n",
    "         var7=widgets.FloatSlider(value=8.163574, min=1.1, max=18,description='B-Leuk'),\n",
    "         var8=widgets.FloatSlider(value=230.610433, min=7, max=562, description='B-Trom'),\n",
    "         var9=widgets.FloatSlider(value=30.028970,min=22, max=39, description='E-MCH'),\n",
    "         var10=widgets.FloatSlider(value=90.696668,min=66, max=113, description='E-MCV'),\n",
    "         var11=widgets.FloatSlider(value=39.583638,min=8, max=2400,description='P-GT'),\n",
    "         var12=widgets.FloatSlider(value=8.533187,min=2.7, max=24,description='P-Gluk'),\n",
    "         var13=widgets.FloatSlider(value=7.359861,min=4.5,max=18.3,description='fP-Gluk'));"
   ]
  },
  {
   "cell_type": "code",
   "execution_count": 11,
   "metadata": {},
   "outputs": [
    {
     "data": {
      "text/plain": [
       "diabetic_id       45.000000\n",
       "A10AB05            0.000000\n",
       "A10AE04            0.000000\n",
       "A10AE05            0.000000\n",
       "A10BA02            0.000000\n",
       "A10BG03            0.000000\n",
       "A10BH01            0.000000\n",
       "A10BJ02            0.000000\n",
       "A10BX04            0.000000\n",
       "B01AB05            0.000000\n",
       "C09AA02            0.000000\n",
       "C09AA05            0.000000\n",
       "C09CA01            0.000000\n",
       "C09CA06            0.000000\n",
       "C09CA07            0.000000\n",
       "C09DA01            0.000000\n",
       "N02AA05            0.000000\n",
       "N02AX02            0.000000\n",
       "N03AX12            0.000000\n",
       "N03AX16            0.000000\n",
       "N05BA01            0.000000\n",
       "N06AX16            0.000000\n",
       "B.Eryt..1341.      2.630000\n",
       "B.Gluk..1462.      2.400000\n",
       "B.HKR..1358.       0.220000\n",
       "B.Hb..1552.       60.000000\n",
       "B.Hb.CO..1566.    -0.400000\n",
       "B.HbA1c..6128.    23.000000\n",
       "B.Leuk..2218.      1.100000\n",
       "B.Trom..2791.      7.000000\n",
       "E.MCH..1558.      22.000000\n",
       "E.MCV..1357.      66.000000\n",
       "P.GT..4597.        8.000000\n",
       "P.Gluk..1471.      2.700000\n",
       "fP.Gluk..1468.     2.500000\n",
       "age_of_death      43.758904\n",
       "dtype: float64"
      ]
     },
     "execution_count": 11,
     "metadata": {},
     "output_type": "execute_result"
    }
   ],
   "source": [
    "df.min()"
   ]
  },
  {
   "cell_type": "code",
   "execution_count": null,
   "metadata": {
    "collapsed": true
   },
   "outputs": [],
   "source": []
  }
 ],
 "metadata": {
  "kernelspec": {
   "display_name": "Python 3",
   "language": "python",
   "name": "python3"
  },
  "language_info": {
   "codemirror_mode": {
    "name": "ipython",
    "version": 3
   },
   "file_extension": ".py",
   "mimetype": "text/x-python",
   "name": "python",
   "nbconvert_exporter": "python",
   "pygments_lexer": "ipython3",
   "version": "3.6.1"
  }
 },
 "nbformat": 4,
 "nbformat_minor": 2
}
