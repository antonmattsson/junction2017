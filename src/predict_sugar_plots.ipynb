{
 "cells": [
  {
   "cell_type": "code",
   "execution_count": 7,
   "metadata": {
    "collapsed": false
   },
   "outputs": [],
   "source": [
    "import numpy as np\n",
    "import pandas as pd\n",
    "import matplotlib.pyplot as plt\n",
    "\n",
    "from sklearn.preprocessing import LabelEncoder\n",
    "from keras.utils import np_utils\n",
    "\n",
    "from keras.models import Sequential\n",
    "from keras.layers.core import Dense, Activation\n",
    "%matplotlib inline\n",
    "\n",
    "from __future__ import print_function\n",
    "from ipywidgets import interact, interactive, fixed, interact_manual\n",
    "import ipywidgets as widgets\n",
    "from ipywidgets import IntSlider, Label\n",
    "\n",
    "from sklearn.decomposition import PCA\n",
    "from sklearn.preprocessing import scale\n",
    "import plotly\n",
    "import plotly.plotly as py\n",
    "import plotly.graph_objs as go\n",
    "plotly.tools.set_credentials_file(username='anadekonda', api_key='gk66kZB2qCbZeIIBVa4T')"
   ]
  },
  {
   "cell_type": "code",
   "execution_count": 8,
   "metadata": {
    "collapsed": true
   },
   "outputs": [],
   "source": [
    "labs = [\"B.Eryt..1341.\",\"B.Gluk..1462.\",\"B.HKR..1358.\",\"B.Hb..1552.\",\"B.Hb.CO..1566.\",\"B.HbA1c..6128.\",\"B.Leuk..2218.\",\"B.Trom..2791.\",\"E.MCH..1558.\",\"E.MCV..1357.\",\"P.GT..4597.\",\"P.Gluk..1471.\",\"fP.Gluk..1468.\"]"
   ]
  },
  {
   "cell_type": "code",
   "execution_count": 9,
   "metadata": {
    "collapsed": true
   },
   "outputs": [],
   "source": [
    "df = pd.read_csv('patient_profile_aod.csv', sep=',').iloc[:,22:]"
   ]
  },
  {
   "cell_type": "code",
   "execution_count": 10,
   "metadata": {
    "collapsed": false,
    "scrolled": false
   },
   "outputs": [],
   "source": [
    "# Removing outliers from dataset\n",
    "\n",
    "low = .01\n",
    "high = .99\n",
    "quant_df = df.quantile([low, high])\n",
    "\n",
    "df = df.apply(lambda x: x[(x>quant_df.loc[low, x.name]) & \n",
    "                                    (x < quant_df.loc[high, x.name])], axis=0)\n",
    "df.dropna(inplace=True)"
   ]
  },
  {
   "cell_type": "code",
   "execution_count": 11,
   "metadata": {
    "collapsed": false
   },
   "outputs": [],
   "source": [
    "# Load target data from glucose\n",
    "y = df['age_of_death'].as_matrix()\n",
    "x = df[labs].as_matrix()"
   ]
  },
  {
   "cell_type": "code",
   "execution_count": 12,
   "metadata": {
    "collapsed": false
   },
   "outputs": [],
   "source": [
    "def build_model():\n",
    "    # create model\n",
    "    model = Sequential()\n",
    "    model.add(Dense(13, input_dim=13, kernel_initializer='normal', activation='relu'))\n",
    "    model.add(Dense(1, kernel_initializer='normal'))\n",
    "    # Compile model\n",
    "    model.compile(loss='mean_squared_error', metrics=['accuracy'], optimizer='adam')\n",
    "    return model"
   ]
  },
  {
   "cell_type": "code",
   "execution_count": null,
   "metadata": {
    "collapsed": true
   },
   "outputs": [],
   "source": [
    "batch_size = 10\n",
    "nb_epoch = 100\n",
    "model = build_model()\n",
    "model.fit(x,\n",
    "          y,\n",
    "          batch_size=batch_size,\n",
    "          epochs=nb_epoch,\n",
    "          verbose=1,\n",
    "          validation_split = 0.1)"
   ]
  },
  {
   "cell_type": "code",
   "execution_count": 14,
   "metadata": {
    "collapsed": true
   },
   "outputs": [],
   "source": [
    "x_s = scale(x)\n",
    "pca = PCA(n_components = 2)\n",
    "pca.fit(x_s)\n",
    "x_pca = pca.transform(x_s)"
   ]
  },
  {
   "cell_type": "code",
   "execution_count": 15,
   "metadata": {
    "collapsed": true
   },
   "outputs": [],
   "source": [
    "def f(var1,\n",
    "      var2,\n",
    "      var3,\n",
    "      var4,\n",
    "      var5,\n",
    "      var6,\n",
    "      var7,\n",
    "      var8,\n",
    "      var9,\n",
    "      var10,\n",
    "      var11,\n",
    "      var12,\n",
    "      var13):\n",
    "    array = np.array([[var1,var2,var3,var4,var5,var6,var7,var8,var9,var10,var11,var12,var13]])\n",
    "    print(\"Life Expetancy: {0:.2f} years\".format(model.predict(array)[0][0]))\n",
    "    \n",
    "    full = np.vstack((x,array))\n",
    "    full_pca = pca.transform(scale(full))\n",
    "    \n",
    "    \n",
    "    plt.figure(figsize=(10,10))\n",
    "    plt.scatter(full_pca[:-1,0], full_pca[:-1,1])\n",
    "    plt.scatter(full_pca[-1,0], full_pca[-1,1], color='red')\n",
    "    plt.show()\n",
    "    \n",
    "    \n",
    "    \n",
    "    #return model.predict(array)[0][0]"
   ]
  },
  {
   "cell_type": "code",
   "execution_count": 16,
   "metadata": {
    "collapsed": false
   },
   "outputs": [],
   "source": [
    "interact_manual(f, var1=widgets.FloatSlider(value=3.947811, min=2.63, max=5.930000, description='B-Eryt'),\n",
    "         var2=widgets.FloatSlider(value=8.221790, min=2.4, max=31.000000, description='B-Gluk'),\n",
    "         var3=widgets.FloatSlider(value=0.363096, min=0.22, max=0.490000, description='B-HKR'),\n",
    "         var4=widgets.FloatSlider(value=119.174496,min=60, max=162.000000,description='B-Hb'),\n",
    "         var5=widgets.FloatSlider(value=1.097940,min=0, max=4.4,description='B-Hb-CO'),\n",
    "         var6=widgets.FloatSlider(value=54.047500,min=23, max=103,description='B-HbA1-c'),\n",
    "         var7=widgets.FloatSlider(value=8.163574, min=1.1, max=18,description='B-Leuk'),\n",
    "         var8=widgets.FloatSlider(value=230.610433, min=7, max=562, description='B-Trom'),\n",
    "         var9=widgets.FloatSlider(value=30.028970,min=22, max=39, description='E-MCH'),\n",
    "         var10=widgets.FloatSlider(value=90.696668,min=66, max=113, description='E-MCV'),\n",
    "         var11=widgets.FloatSlider(value=39.583638,min=8, max=2400,description='P-GT'),\n",
    "         var12=widgets.FloatSlider(value=8.533187,min=2.7, max=24,description='P-Gluk'),\n",
    "         var13=widgets.FloatSlider(value=7.359861,min=4.5,max=18.3,description='fP-Gluk'));"
   ]
  },
  {
   "cell_type": "code",
   "execution_count": null,
   "metadata": {
    "collapsed": true
   },
   "outputs": [],
   "source": []
  }
 ],
 "metadata": {
  "anaconda-cloud": {},
  "kernelspec": {
   "display_name": "Python [conda root]",
   "language": "python",
   "name": "conda-root-py"
  },
  "language_info": {
   "codemirror_mode": {
    "name": "ipython",
    "version": 3
   },
   "file_extension": ".py",
   "mimetype": "text/x-python",
   "name": "python",
   "nbconvert_exporter": "python",
   "pygments_lexer": "ipython3",
   "version": "3.5.2"
  }
 },
 "nbformat": 4,
 "nbformat_minor": 1
}
